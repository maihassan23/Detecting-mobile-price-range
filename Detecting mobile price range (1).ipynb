{
 "cells": [
  {
   "cell_type": "code",
   "execution_count": 1,
   "id": "a905cb11",
   "metadata": {},
   "outputs": [
    {
     "name": "stderr",
     "output_type": "stream",
     "text": [
      "ERROR: Could not install packages due to an OSError: [WinError 5] Access is denied: 'C:\\\\Users\\\\USER\\\\New folder\\\\Lib\\\\site-packages\\\\~andas\\\\_libs\\\\algos.cp39-win_amd64.pyd'\n",
      "Consider using the `--user` option or check the permissions.\n",
      "\n"
     ]
    },
    {
     "name": "stdout",
     "output_type": "stream",
     "text": [
      "Requirement already satisfied: pandas in c:\\users\\user\\new folder\\lib\\site-packages (1.3.4)\n",
      "Collecting pandas\n",
      "  Downloading pandas-1.5.2-cp39-cp39-win_amd64.whl (10.9 MB)\n",
      "Requirement already satisfied: numpy>=1.20.3 in c:\\users\\user\\new folder\\lib\\site-packages (from pandas) (1.20.3)\n",
      "Requirement already satisfied: pytz>=2020.1 in c:\\users\\user\\new folder\\lib\\site-packages (from pandas) (2021.3)\n",
      "Requirement already satisfied: python-dateutil>=2.8.1 in c:\\users\\user\\new folder\\lib\\site-packages (from pandas) (2.8.2)\n",
      "Requirement already satisfied: six>=1.5 in c:\\users\\user\\new folder\\lib\\site-packages (from python-dateutil>=2.8.1->pandas) (1.16.0)\n",
      "Installing collected packages: pandas\n",
      "  Attempting uninstall: pandas\n",
      "    Found existing installation: pandas 1.3.4\n",
      "    Uninstalling pandas-1.3.4:\n",
      "      Successfully uninstalled pandas-1.3.4\n"
     ]
    }
   ],
   "source": [
    "!pip install -U pandas"
   ]
  },
  {
   "cell_type": "code",
   "execution_count": 2,
   "id": "dc1c2c9c",
   "metadata": {},
   "outputs": [
    {
     "name": "stdout",
     "output_type": "stream",
     "text": [
      "Requirement already satisfied: seaborn in c:\\users\\user\\new folder\\lib\\site-packages (0.11.2)\n",
      "Collecting seaborn\n",
      "  Downloading seaborn-0.12.1-py3-none-any.whl (288 kB)\n",
      "Requirement already satisfied: numpy>=1.17 in c:\\users\\user\\new folder\\lib\\site-packages (from seaborn) (1.20.3)\n",
      "Requirement already satisfied: matplotlib!=3.6.1,>=3.1 in c:\\users\\user\\new folder\\lib\\site-packages (from seaborn) (3.4.3)\n",
      "Requirement already satisfied: pandas>=0.25 in c:\\users\\user\\new folder\\lib\\site-packages (from seaborn) (1.5.2)\n",
      "Requirement already satisfied: kiwisolver>=1.0.1 in c:\\users\\user\\new folder\\lib\\site-packages (from matplotlib!=3.6.1,>=3.1->seaborn) (1.3.1)\n",
      "Requirement already satisfied: pillow>=6.2.0 in c:\\users\\user\\new folder\\lib\\site-packages (from matplotlib!=3.6.1,>=3.1->seaborn) (8.4.0)\n",
      "Requirement already satisfied: python-dateutil>=2.7 in c:\\users\\user\\new folder\\lib\\site-packages (from matplotlib!=3.6.1,>=3.1->seaborn) (2.8.2)\n",
      "Requirement already satisfied: pyparsing>=2.2.1 in c:\\users\\user\\new folder\\lib\\site-packages (from matplotlib!=3.6.1,>=3.1->seaborn) (3.0.4)\n",
      "Requirement already satisfied: cycler>=0.10 in c:\\users\\user\\new folder\\lib\\site-packages (from matplotlib!=3.6.1,>=3.1->seaborn) (0.10.0)\n",
      "Requirement already satisfied: six in c:\\users\\user\\new folder\\lib\\site-packages (from cycler>=0.10->matplotlib!=3.6.1,>=3.1->seaborn) (1.16.0)\n",
      "Requirement already satisfied: pytz>=2020.1 in c:\\users\\user\\new folder\\lib\\site-packages (from pandas>=0.25->seaborn) (2021.3)\n",
      "Installing collected packages: seaborn\n",
      "  Attempting uninstall: seaborn\n",
      "    Found existing installation: seaborn 0.11.2\n",
      "    Uninstalling seaborn-0.11.2:\n",
      "      Successfully uninstalled seaborn-0.11.2\n",
      "Successfully installed seaborn-0.12.1\n"
     ]
    }
   ],
   "source": [
    "!pip install -U seaborn"
   ]
  },
  {
   "cell_type": "code",
   "execution_count": 4,
   "id": "71584750",
   "metadata": {},
   "outputs": [],
   "source": [
    "import pandas as pd \n",
    "import numpy as np"
   ]
  },
  {
   "cell_type": "code",
   "execution_count": 5,
   "id": "b8e1be98",
   "metadata": {},
   "outputs": [],
   "source": [
    "data = pd.read_csv('./test.csv')"
   ]
  },
  {
   "cell_type": "code",
   "execution_count": 6,
   "id": "92d5978e",
   "metadata": {},
   "outputs": [
    {
     "data": {
      "text/html": [
       "<div>\n",
       "<style scoped>\n",
       "    .dataframe tbody tr th:only-of-type {\n",
       "        vertical-align: middle;\n",
       "    }\n",
       "\n",
       "    .dataframe tbody tr th {\n",
       "        vertical-align: top;\n",
       "    }\n",
       "\n",
       "    .dataframe thead th {\n",
       "        text-align: right;\n",
       "    }\n",
       "</style>\n",
       "<table border=\"1\" class=\"dataframe\">\n",
       "  <thead>\n",
       "    <tr style=\"text-align: right;\">\n",
       "      <th></th>\n",
       "      <th>id</th>\n",
       "      <th>mobile_wt</th>\n",
       "      <th>ram</th>\n",
       "      <th>Mobile_wt_zscore</th>\n",
       "      <th>Unnamed: 4</th>\n",
       "      <th>mobile_wt-zscore_removed</th>\n",
       "      <th>Unnamed: 6</th>\n",
       "      <th>Unnamed: 7</th>\n",
       "      <th>Unnamed: 8</th>\n",
       "      <th>ram_zscore</th>\n",
       "      <th>Unnamed: 10</th>\n",
       "      <th>ram_zscore_clipped</th>\n",
       "      <th>Unnamed: 12</th>\n",
       "      <th>Unnamed: 13</th>\n",
       "      <th>Unnamed: 14</th>\n",
       "      <th>Unnamed: 15</th>\n",
       "    </tr>\n",
       "  </thead>\n",
       "  <tbody>\n",
       "    <tr>\n",
       "      <th>0</th>\n",
       "      <td>1</td>\n",
       "      <td>193</td>\n",
       "      <td>3476</td>\n",
       "      <td>1.534767</td>\n",
       "      <td>NaN</td>\n",
       "      <td>1.534767</td>\n",
       "      <td>NaN</td>\n",
       "      <td>NaN</td>\n",
       "      <td>NaN</td>\n",
       "      <td>1.228758</td>\n",
       "      <td>NaN</td>\n",
       "      <td>1.228758</td>\n",
       "      <td>NaN</td>\n",
       "      <td>NaN</td>\n",
       "      <td>NaN</td>\n",
       "      <td>NaN</td>\n",
       "    </tr>\n",
       "    <tr>\n",
       "      <th>1</th>\n",
       "      <td>2</td>\n",
       "      <td>191</td>\n",
       "      <td>3895</td>\n",
       "      <td>1.477381</td>\n",
       "      <td>NaN</td>\n",
       "      <td>NaN</td>\n",
       "      <td>NaN</td>\n",
       "      <td>NaN</td>\n",
       "      <td>NaN</td>\n",
       "      <td>1.613836</td>\n",
       "      <td>NaN</td>\n",
       "      <td>1.613836</td>\n",
       "      <td>NaN</td>\n",
       "      <td>NaN</td>\n",
       "      <td>NaN</td>\n",
       "      <td>NaN</td>\n",
       "    </tr>\n",
       "    <tr>\n",
       "      <th>2</th>\n",
       "      <td>3</td>\n",
       "      <td>186</td>\n",
       "      <td>2396</td>\n",
       "      <td>1.333915</td>\n",
       "      <td>NaN</td>\n",
       "      <td>NaN</td>\n",
       "      <td>NaN</td>\n",
       "      <td>NaN</td>\n",
       "      <td>NaN</td>\n",
       "      <td>0.236195</td>\n",
       "      <td>NaN</td>\n",
       "      <td>0.236195</td>\n",
       "      <td>NaN</td>\n",
       "      <td>NaN</td>\n",
       "      <td>NaN</td>\n",
       "      <td>NaN</td>\n",
       "    </tr>\n",
       "    <tr>\n",
       "      <th>3</th>\n",
       "      <td>4</td>\n",
       "      <td>96</td>\n",
       "      <td>3893</td>\n",
       "      <td>-1.248467</td>\n",
       "      <td>NaN</td>\n",
       "      <td>NaN</td>\n",
       "      <td>NaN</td>\n",
       "      <td>NaN</td>\n",
       "      <td>NaN</td>\n",
       "      <td>1.611997</td>\n",
       "      <td>NaN</td>\n",
       "      <td>1.611997</td>\n",
       "      <td>NaN</td>\n",
       "      <td>mobile|_wt</td>\n",
       "      <td>NaN</td>\n",
       "      <td>ram</td>\n",
       "    </tr>\n",
       "    <tr>\n",
       "      <th>4</th>\n",
       "      <td>5</td>\n",
       "      <td>108</td>\n",
       "      <td>1773</td>\n",
       "      <td>-0.904149</td>\n",
       "      <td>NaN</td>\n",
       "      <td>NaN</td>\n",
       "      <td>NaN</td>\n",
       "      <td>NaN</td>\n",
       "      <td>NaN</td>\n",
       "      <td>-0.336367</td>\n",
       "      <td>NaN</td>\n",
       "      <td>-0.336367</td>\n",
       "      <td>mean</td>\n",
       "      <td>139.511</td>\n",
       "      <td>NaN</td>\n",
       "      <td>2138.998</td>\n",
       "    </tr>\n",
       "  </tbody>\n",
       "</table>\n",
       "</div>"
      ],
      "text/plain": [
       "   id  mobile_wt   ram  Mobile_wt_zscore  Unnamed: 4  \\\n",
       "0   1        193  3476          1.534767         NaN   \n",
       "1   2        191  3895          1.477381         NaN   \n",
       "2   3        186  2396          1.333915         NaN   \n",
       "3   4         96  3893         -1.248467         NaN   \n",
       "4   5        108  1773         -0.904149         NaN   \n",
       "\n",
       "   mobile_wt-zscore_removed  Unnamed: 6  Unnamed: 7  Unnamed: 8  ram_zscore  \\\n",
       "0                  1.534767         NaN         NaN         NaN    1.228758   \n",
       "1                       NaN         NaN         NaN         NaN    1.613836   \n",
       "2                       NaN         NaN         NaN         NaN    0.236195   \n",
       "3                       NaN         NaN         NaN         NaN    1.611997   \n",
       "4                       NaN         NaN         NaN         NaN   -0.336367   \n",
       "\n",
       "   Unnamed: 10  ram_zscore_clipped Unnamed: 12  Unnamed: 13  Unnamed: 14  \\\n",
       "0          NaN            1.228758         NaN          NaN          NaN   \n",
       "1          NaN            1.613836         NaN          NaN          NaN   \n",
       "2          NaN            0.236195         NaN          NaN          NaN   \n",
       "3          NaN            1.611997         NaN  mobile|_wt           NaN   \n",
       "4          NaN           -0.336367        mean      139.511          NaN   \n",
       "\n",
       "  Unnamed: 15  \n",
       "0         NaN  \n",
       "1         NaN  \n",
       "2         NaN  \n",
       "3         ram  \n",
       "4    2138.998  "
      ]
     },
     "execution_count": 6,
     "metadata": {},
     "output_type": "execute_result"
    }
   ],
   "source": [
    "data.head()"
   ]
  },
  {
   "cell_type": "code",
   "execution_count": 7,
   "id": "f8093574",
   "metadata": {},
   "outputs": [
    {
     "data": {
      "text/plain": [
       "(1000, 16)"
      ]
     },
     "execution_count": 7,
     "metadata": {},
     "output_type": "execute_result"
    }
   ],
   "source": [
    "data.shape\n"
   ]
  },
  {
   "cell_type": "code",
   "execution_count": 10,
   "id": "ee9b25a3",
   "metadata": {},
   "outputs": [
    {
     "data": {
      "text/plain": [
       "Index(['id', 'mobile_wt', 'ram', 'Mobile_wt_zscore', 'Unnamed: 4',\n",
       "       'mobile_wt-zscore_removed', 'Unnamed: 6', 'Unnamed: 7', 'Unnamed: 8',\n",
       "       'ram_zscore', 'Unnamed: 10', 'ram_zscore_clipped', 'Unnamed: 12',\n",
       "       'Unnamed: 13', 'Unnamed: 14', 'Unnamed: 15'],\n",
       "      dtype='object')"
      ]
     },
     "execution_count": 10,
     "metadata": {},
     "output_type": "execute_result"
    }
   ],
   "source": [
    "data.columns"
   ]
  },
  {
   "cell_type": "code",
   "execution_count": 11,
   "id": "47d3266e",
   "metadata": {},
   "outputs": [
    {
     "data": {
      "text/plain": [
       "(1000, 15)"
      ]
     },
     "execution_count": 11,
     "metadata": {},
     "output_type": "execute_result"
    }
   ],
   "source": [
    "data = data.drop('id',axis=1)\n",
    "data.shape"
   ]
  },
  {
   "cell_type": "code",
   "execution_count": 12,
   "id": "fbfffad6",
   "metadata": {},
   "outputs": [
    {
     "data": {
      "text/html": [
       "<div>\n",
       "<style scoped>\n",
       "    .dataframe tbody tr th:only-of-type {\n",
       "        vertical-align: middle;\n",
       "    }\n",
       "\n",
       "    .dataframe tbody tr th {\n",
       "        vertical-align: top;\n",
       "    }\n",
       "\n",
       "    .dataframe thead th {\n",
       "        text-align: right;\n",
       "    }\n",
       "</style>\n",
       "<table border=\"1\" class=\"dataframe\">\n",
       "  <thead>\n",
       "    <tr style=\"text-align: right;\">\n",
       "      <th></th>\n",
       "      <th>mobile_wt</th>\n",
       "      <th>ram</th>\n",
       "      <th>Mobile_wt_zscore</th>\n",
       "      <th>Unnamed: 4</th>\n",
       "      <th>mobile_wt-zscore_removed</th>\n",
       "      <th>Unnamed: 6</th>\n",
       "      <th>Unnamed: 7</th>\n",
       "      <th>Unnamed: 8</th>\n",
       "      <th>ram_zscore</th>\n",
       "      <th>Unnamed: 10</th>\n",
       "      <th>ram_zscore_clipped</th>\n",
       "      <th>Unnamed: 14</th>\n",
       "    </tr>\n",
       "  </thead>\n",
       "  <tbody>\n",
       "    <tr>\n",
       "      <th>count</th>\n",
       "      <td>1000.00000</td>\n",
       "      <td>1000.000000</td>\n",
       "      <td>1.000000e+03</td>\n",
       "      <td>0.0</td>\n",
       "      <td>1.000000</td>\n",
       "      <td>0.0</td>\n",
       "      <td>0.0</td>\n",
       "      <td>0.0</td>\n",
       "      <td>1.000000e+03</td>\n",
       "      <td>0.0</td>\n",
       "      <td>1.000000e+03</td>\n",
       "      <td>1.0</td>\n",
       "    </tr>\n",
       "    <tr>\n",
       "      <th>mean</th>\n",
       "      <td>139.51100</td>\n",
       "      <td>2138.998000</td>\n",
       "      <td>-6.999999e-12</td>\n",
       "      <td>NaN</td>\n",
       "      <td>1.534767</td>\n",
       "      <td>NaN</td>\n",
       "      <td>NaN</td>\n",
       "      <td>NaN</td>\n",
       "      <td>-2.000004e-12</td>\n",
       "      <td>NaN</td>\n",
       "      <td>-2.000004e-12</td>\n",
       "      <td>-3.0</td>\n",
       "    </tr>\n",
       "    <tr>\n",
       "      <th>std</th>\n",
       "      <td>34.85155</td>\n",
       "      <td>1088.092278</td>\n",
       "      <td>1.000000e+00</td>\n",
       "      <td>NaN</td>\n",
       "      <td>NaN</td>\n",
       "      <td>NaN</td>\n",
       "      <td>NaN</td>\n",
       "      <td>NaN</td>\n",
       "      <td>1.000000e+00</td>\n",
       "      <td>NaN</td>\n",
       "      <td>1.000000e+00</td>\n",
       "      <td>NaN</td>\n",
       "    </tr>\n",
       "    <tr>\n",
       "      <th>min</th>\n",
       "      <td>80.00000</td>\n",
       "      <td>263.000000</td>\n",
       "      <td>-1.707557e+00</td>\n",
       "      <td>NaN</td>\n",
       "      <td>1.534767</td>\n",
       "      <td>NaN</td>\n",
       "      <td>NaN</td>\n",
       "      <td>NaN</td>\n",
       "      <td>-1.724117e+00</td>\n",
       "      <td>NaN</td>\n",
       "      <td>-1.724117e+00</td>\n",
       "      <td>-3.0</td>\n",
       "    </tr>\n",
       "    <tr>\n",
       "      <th>25%</th>\n",
       "      <td>109.75000</td>\n",
       "      <td>1237.250000</td>\n",
       "      <td>-8.539362e-01</td>\n",
       "      <td>NaN</td>\n",
       "      <td>1.534767</td>\n",
       "      <td>NaN</td>\n",
       "      <td>NaN</td>\n",
       "      <td>NaN</td>\n",
       "      <td>-8.287422e-01</td>\n",
       "      <td>NaN</td>\n",
       "      <td>-8.287422e-01</td>\n",
       "      <td>-3.0</td>\n",
       "    </tr>\n",
       "    <tr>\n",
       "      <th>50%</th>\n",
       "      <td>139.00000</td>\n",
       "      <td>2153.500000</td>\n",
       "      <td>-1.466219e-02</td>\n",
       "      <td>NaN</td>\n",
       "      <td>1.534767</td>\n",
       "      <td>NaN</td>\n",
       "      <td>NaN</td>\n",
       "      <td>NaN</td>\n",
       "      <td>1.332791e-02</td>\n",
       "      <td>NaN</td>\n",
       "      <td>1.332791e-02</td>\n",
       "      <td>-3.0</td>\n",
       "    </tr>\n",
       "    <tr>\n",
       "      <th>75%</th>\n",
       "      <td>170.00000</td>\n",
       "      <td>3065.500000</td>\n",
       "      <td>8.748248e-01</td>\n",
       "      <td>NaN</td>\n",
       "      <td>1.534767</td>\n",
       "      <td>NaN</td>\n",
       "      <td>NaN</td>\n",
       "      <td>NaN</td>\n",
       "      <td>8.514921e-01</td>\n",
       "      <td>NaN</td>\n",
       "      <td>8.514921e-01</td>\n",
       "      <td>-3.0</td>\n",
       "    </tr>\n",
       "    <tr>\n",
       "      <th>max</th>\n",
       "      <td>200.00000</td>\n",
       "      <td>3989.000000</td>\n",
       "      <td>1.735619e+00</td>\n",
       "      <td>NaN</td>\n",
       "      <td>1.534767</td>\n",
       "      <td>NaN</td>\n",
       "      <td>NaN</td>\n",
       "      <td>NaN</td>\n",
       "      <td>1.700225e+00</td>\n",
       "      <td>NaN</td>\n",
       "      <td>1.700225e+00</td>\n",
       "      <td>-3.0</td>\n",
       "    </tr>\n",
       "  </tbody>\n",
       "</table>\n",
       "</div>"
      ],
      "text/plain": [
       "        mobile_wt          ram  Mobile_wt_zscore  Unnamed: 4  \\\n",
       "count  1000.00000  1000.000000      1.000000e+03         0.0   \n",
       "mean    139.51100  2138.998000     -6.999999e-12         NaN   \n",
       "std      34.85155  1088.092278      1.000000e+00         NaN   \n",
       "min      80.00000   263.000000     -1.707557e+00         NaN   \n",
       "25%     109.75000  1237.250000     -8.539362e-01         NaN   \n",
       "50%     139.00000  2153.500000     -1.466219e-02         NaN   \n",
       "75%     170.00000  3065.500000      8.748248e-01         NaN   \n",
       "max     200.00000  3989.000000      1.735619e+00         NaN   \n",
       "\n",
       "       mobile_wt-zscore_removed  Unnamed: 6  Unnamed: 7  Unnamed: 8  \\\n",
       "count                  1.000000         0.0         0.0         0.0   \n",
       "mean                   1.534767         NaN         NaN         NaN   \n",
       "std                         NaN         NaN         NaN         NaN   \n",
       "min                    1.534767         NaN         NaN         NaN   \n",
       "25%                    1.534767         NaN         NaN         NaN   \n",
       "50%                    1.534767         NaN         NaN         NaN   \n",
       "75%                    1.534767         NaN         NaN         NaN   \n",
       "max                    1.534767         NaN         NaN         NaN   \n",
       "\n",
       "         ram_zscore  Unnamed: 10  ram_zscore_clipped  Unnamed: 14  \n",
       "count  1.000000e+03          0.0        1.000000e+03          1.0  \n",
       "mean  -2.000004e-12          NaN       -2.000004e-12         -3.0  \n",
       "std    1.000000e+00          NaN        1.000000e+00          NaN  \n",
       "min   -1.724117e+00          NaN       -1.724117e+00         -3.0  \n",
       "25%   -8.287422e-01          NaN       -8.287422e-01         -3.0  \n",
       "50%    1.332791e-02          NaN        1.332791e-02         -3.0  \n",
       "75%    8.514921e-01          NaN        8.514921e-01         -3.0  \n",
       "max    1.700225e+00          NaN        1.700225e+00         -3.0  "
      ]
     },
     "execution_count": 12,
     "metadata": {},
     "output_type": "execute_result"
    }
   ],
   "source": [
    "data.describe()"
   ]
  },
  {
   "cell_type": "code",
   "execution_count": 13,
   "id": "0b1d5136",
   "metadata": {},
   "outputs": [
    {
     "data": {
      "text/plain": [
       "0    False\n",
       "1    False\n",
       "2    False\n",
       "3    False\n",
       "4    False\n",
       "dtype: bool"
      ]
     },
     "execution_count": 13,
     "metadata": {},
     "output_type": "execute_result"
    }
   ],
   "source": [
    "dupes = data.duplicated()\n",
    "dupes.head()"
   ]
  },
  {
   "cell_type": "code",
   "execution_count": 14,
   "id": "362e2163",
   "metadata": {},
   "outputs": [
    {
     "data": {
      "text/plain": [
       "2"
      ]
     },
     "execution_count": 14,
     "metadata": {},
     "output_type": "execute_result"
    }
   ],
   "source": [
    "sum(dupes)"
   ]
  },
  {
   "cell_type": "code",
   "execution_count": 15,
   "id": "c37ff831",
   "metadata": {},
   "outputs": [
    {
     "data": {
      "text/plain": [
       "(998, 15)"
      ]
     },
     "execution_count": 15,
     "metadata": {},
     "output_type": "execute_result"
    }
   ],
   "source": [
    "data = data.drop_duplicates()\n",
    "data.shape"
   ]
  },
  {
   "cell_type": "code",
   "execution_count": 19,
   "id": "98c26dfb",
   "metadata": {},
   "outputs": [
    {
     "data": {
      "text/plain": [
       "mobile_wt                     0\n",
       "ram                           0\n",
       "Mobile_wt_zscore              0\n",
       "Unnamed: 4                  998\n",
       "mobile_wt-zscore_removed    997\n",
       "Unnamed: 6                  998\n",
       "Unnamed: 7                  998\n",
       "Unnamed: 8                  998\n",
       "ram_zscore                    0\n",
       "Unnamed: 10                 998\n",
       "ram_zscore_clipped            0\n",
       "Unnamed: 12                 995\n",
       "Unnamed: 13                 995\n",
       "Unnamed: 14                 997\n",
       "Unnamed: 15                 994\n",
       "dtype: int64"
      ]
     },
     "execution_count": 19,
     "metadata": {},
     "output_type": "execute_result"
    }
   ],
   "source": [
    "data.isna().sum()"
   ]
  },
  {
   "cell_type": "code",
   "execution_count": 20,
   "id": "32bb0a21",
   "metadata": {},
   "outputs": [
    {
     "data": {
      "text/plain": [
       "872"
      ]
     },
     "execution_count": 20,
     "metadata": {},
     "output_type": "execute_result"
    }
   ],
   "source": [
    "len(data['ram'].unique())"
   ]
  },
  {
   "cell_type": "code",
   "execution_count": 21,
   "id": "8bdf1be9",
   "metadata": {},
   "outputs": [],
   "source": [
    "data['mobile_wt-zscore_removed'] = data['mobile_wt-zscore_removed'].fillna(data['mobile_wt-zscore_removed'].median())"
   ]
  },
  {
   "cell_type": "code",
   "execution_count": 22,
   "id": "b6e6930a",
   "metadata": {},
   "outputs": [
    {
     "data": {
      "text/plain": [
       "0    1.534767\n",
       "1    1.534767\n",
       "2    1.534767\n",
       "3    1.534767\n",
       "4    1.534767\n",
       "Name: mobile_wt-zscore_removed, dtype: float64"
      ]
     },
     "execution_count": 22,
     "metadata": {},
     "output_type": "execute_result"
    }
   ],
   "source": [
    "data['mobile_wt-zscore_removed'].head()"
   ]
  },
  {
   "cell_type": "code",
   "execution_count": 23,
   "id": "460d88d8",
   "metadata": {},
   "outputs": [],
   "source": [
    "data = data.dropna()"
   ]
  },
  {
   "cell_type": "code",
   "execution_count": 24,
   "id": "4c28752c",
   "metadata": {},
   "outputs": [
    {
     "data": {
      "text/plain": [
       "mobile_wt                   0.0\n",
       "ram                         0.0\n",
       "Mobile_wt_zscore            0.0\n",
       "Unnamed: 4                  0.0\n",
       "mobile_wt-zscore_removed    0.0\n",
       "Unnamed: 6                  0.0\n",
       "Unnamed: 7                  0.0\n",
       "Unnamed: 8                  0.0\n",
       "ram_zscore                  0.0\n",
       "Unnamed: 10                 0.0\n",
       "ram_zscore_clipped          0.0\n",
       "Unnamed: 12                 0.0\n",
       "Unnamed: 13                 0.0\n",
       "Unnamed: 14                 0.0\n",
       "Unnamed: 15                 0.0\n",
       "dtype: float64"
      ]
     },
     "execution_count": 24,
     "metadata": {},
     "output_type": "execute_result"
    }
   ],
   "source": [
    "data.isnull().sum()"
   ]
  },
  {
   "cell_type": "code",
   "execution_count": 26,
   "id": "9908bfde",
   "metadata": {},
   "outputs": [
    {
     "data": {
      "text/html": [
       "<div>\n",
       "<style scoped>\n",
       "    .dataframe tbody tr th:only-of-type {\n",
       "        vertical-align: middle;\n",
       "    }\n",
       "\n",
       "    .dataframe tbody tr th {\n",
       "        vertical-align: top;\n",
       "    }\n",
       "\n",
       "    .dataframe thead th {\n",
       "        text-align: right;\n",
       "    }\n",
       "</style>\n",
       "<table border=\"1\" class=\"dataframe\">\n",
       "  <thead>\n",
       "    <tr style=\"text-align: right;\">\n",
       "      <th></th>\n",
       "      <th>battery_power</th>\n",
       "      <th>blue</th>\n",
       "      <th>clock_speed</th>\n",
       "      <th>dual_sim</th>\n",
       "      <th>fc</th>\n",
       "      <th>four_g</th>\n",
       "      <th>int_memory</th>\n",
       "      <th>m_dep</th>\n",
       "      <th>mobile_wt</th>\n",
       "      <th>n_cores</th>\n",
       "      <th>...</th>\n",
       "      <th>px_height</th>\n",
       "      <th>px_width</th>\n",
       "      <th>ram</th>\n",
       "      <th>sc_h</th>\n",
       "      <th>sc_w</th>\n",
       "      <th>talk_time</th>\n",
       "      <th>three_g</th>\n",
       "      <th>touch_screen</th>\n",
       "      <th>wifi</th>\n",
       "      <th>price_range</th>\n",
       "    </tr>\n",
       "  </thead>\n",
       "  <tbody>\n",
       "    <tr>\n",
       "      <th>0</th>\n",
       "      <td>842</td>\n",
       "      <td>0</td>\n",
       "      <td>2.2</td>\n",
       "      <td>0</td>\n",
       "      <td>1</td>\n",
       "      <td>0</td>\n",
       "      <td>7</td>\n",
       "      <td>0.6</td>\n",
       "      <td>188</td>\n",
       "      <td>2</td>\n",
       "      <td>...</td>\n",
       "      <td>20</td>\n",
       "      <td>756</td>\n",
       "      <td>2549</td>\n",
       "      <td>9</td>\n",
       "      <td>7</td>\n",
       "      <td>19</td>\n",
       "      <td>0</td>\n",
       "      <td>0</td>\n",
       "      <td>1</td>\n",
       "      <td>1</td>\n",
       "    </tr>\n",
       "    <tr>\n",
       "      <th>1</th>\n",
       "      <td>1021</td>\n",
       "      <td>1</td>\n",
       "      <td>0.5</td>\n",
       "      <td>1</td>\n",
       "      <td>0</td>\n",
       "      <td>1</td>\n",
       "      <td>53</td>\n",
       "      <td>0.7</td>\n",
       "      <td>136</td>\n",
       "      <td>3</td>\n",
       "      <td>...</td>\n",
       "      <td>905</td>\n",
       "      <td>1988</td>\n",
       "      <td>2631</td>\n",
       "      <td>17</td>\n",
       "      <td>3</td>\n",
       "      <td>7</td>\n",
       "      <td>1</td>\n",
       "      <td>1</td>\n",
       "      <td>0</td>\n",
       "      <td>2</td>\n",
       "    </tr>\n",
       "    <tr>\n",
       "      <th>2</th>\n",
       "      <td>563</td>\n",
       "      <td>1</td>\n",
       "      <td>0.5</td>\n",
       "      <td>1</td>\n",
       "      <td>2</td>\n",
       "      <td>1</td>\n",
       "      <td>41</td>\n",
       "      <td>0.9</td>\n",
       "      <td>145</td>\n",
       "      <td>5</td>\n",
       "      <td>...</td>\n",
       "      <td>1263</td>\n",
       "      <td>1716</td>\n",
       "      <td>2603</td>\n",
       "      <td>11</td>\n",
       "      <td>2</td>\n",
       "      <td>9</td>\n",
       "      <td>1</td>\n",
       "      <td>1</td>\n",
       "      <td>0</td>\n",
       "      <td>2</td>\n",
       "    </tr>\n",
       "    <tr>\n",
       "      <th>3</th>\n",
       "      <td>615</td>\n",
       "      <td>1</td>\n",
       "      <td>2.5</td>\n",
       "      <td>0</td>\n",
       "      <td>0</td>\n",
       "      <td>0</td>\n",
       "      <td>10</td>\n",
       "      <td>0.8</td>\n",
       "      <td>131</td>\n",
       "      <td>6</td>\n",
       "      <td>...</td>\n",
       "      <td>1216</td>\n",
       "      <td>1786</td>\n",
       "      <td>2769</td>\n",
       "      <td>16</td>\n",
       "      <td>8</td>\n",
       "      <td>11</td>\n",
       "      <td>1</td>\n",
       "      <td>0</td>\n",
       "      <td>0</td>\n",
       "      <td>2</td>\n",
       "    </tr>\n",
       "    <tr>\n",
       "      <th>4</th>\n",
       "      <td>1821</td>\n",
       "      <td>1</td>\n",
       "      <td>1.2</td>\n",
       "      <td>0</td>\n",
       "      <td>13</td>\n",
       "      <td>1</td>\n",
       "      <td>44</td>\n",
       "      <td>0.6</td>\n",
       "      <td>141</td>\n",
       "      <td>2</td>\n",
       "      <td>...</td>\n",
       "      <td>1208</td>\n",
       "      <td>1212</td>\n",
       "      <td>1411</td>\n",
       "      <td>8</td>\n",
       "      <td>2</td>\n",
       "      <td>15</td>\n",
       "      <td>1</td>\n",
       "      <td>1</td>\n",
       "      <td>0</td>\n",
       "      <td>1</td>\n",
       "    </tr>\n",
       "  </tbody>\n",
       "</table>\n",
       "<p>5 rows × 21 columns</p>\n",
       "</div>"
      ],
      "text/plain": [
       "   battery_power  blue  clock_speed  dual_sim  fc  four_g  int_memory  m_dep  \\\n",
       "0            842     0          2.2         0   1       0           7    0.6   \n",
       "1           1021     1          0.5         1   0       1          53    0.7   \n",
       "2            563     1          0.5         1   2       1          41    0.9   \n",
       "3            615     1          2.5         0   0       0          10    0.8   \n",
       "4           1821     1          1.2         0  13       1          44    0.6   \n",
       "\n",
       "   mobile_wt  n_cores  ...  px_height  px_width   ram  sc_h  sc_w  talk_time  \\\n",
       "0        188        2  ...         20       756  2549     9     7         19   \n",
       "1        136        3  ...        905      1988  2631    17     3          7   \n",
       "2        145        5  ...       1263      1716  2603    11     2          9   \n",
       "3        131        6  ...       1216      1786  2769    16     8         11   \n",
       "4        141        2  ...       1208      1212  1411     8     2         15   \n",
       "\n",
       "   three_g  touch_screen  wifi  price_range  \n",
       "0        0             0     1            1  \n",
       "1        1             1     0            2  \n",
       "2        1             1     0            2  \n",
       "3        1             0     0            2  \n",
       "4        1             1     0            1  \n",
       "\n",
       "[5 rows x 21 columns]"
      ]
     },
     "execution_count": 26,
     "metadata": {},
     "output_type": "execute_result"
    }
   ],
   "source": [
    "data = pd.read_csv('./train.csv')\n",
    "data.head()"
   ]
  },
  {
   "cell_type": "code",
   "execution_count": 27,
   "id": "2ba3bd7b",
   "metadata": {},
   "outputs": [
    {
     "data": {
      "text/html": [
       "<div>\n",
       "<style scoped>\n",
       "    .dataframe tbody tr th:only-of-type {\n",
       "        vertical-align: middle;\n",
       "    }\n",
       "\n",
       "    .dataframe tbody tr th {\n",
       "        vertical-align: top;\n",
       "    }\n",
       "\n",
       "    .dataframe thead th {\n",
       "        text-align: right;\n",
       "    }\n",
       "</style>\n",
       "<table border=\"1\" class=\"dataframe\">\n",
       "  <thead>\n",
       "    <tr style=\"text-align: right;\">\n",
       "      <th></th>\n",
       "      <th>battery_power</th>\n",
       "      <th>clock_speed</th>\n",
       "      <th>fc</th>\n",
       "      <th>int_memory</th>\n",
       "      <th>m_dep</th>\n",
       "      <th>mobile_wt</th>\n",
       "      <th>n_cores</th>\n",
       "      <th>pc</th>\n",
       "      <th>px_height</th>\n",
       "      <th>px_width</th>\n",
       "      <th>ram</th>\n",
       "      <th>sc_h</th>\n",
       "      <th>sc_w</th>\n",
       "      <th>talk_time</th>\n",
       "    </tr>\n",
       "  </thead>\n",
       "  <tbody>\n",
       "    <tr>\n",
       "      <th>0</th>\n",
       "      <td>842</td>\n",
       "      <td>2.2</td>\n",
       "      <td>1</td>\n",
       "      <td>7</td>\n",
       "      <td>0.6</td>\n",
       "      <td>188</td>\n",
       "      <td>2</td>\n",
       "      <td>2</td>\n",
       "      <td>20</td>\n",
       "      <td>756</td>\n",
       "      <td>2549</td>\n",
       "      <td>9</td>\n",
       "      <td>7</td>\n",
       "      <td>19</td>\n",
       "    </tr>\n",
       "    <tr>\n",
       "      <th>1</th>\n",
       "      <td>1021</td>\n",
       "      <td>0.5</td>\n",
       "      <td>0</td>\n",
       "      <td>53</td>\n",
       "      <td>0.7</td>\n",
       "      <td>136</td>\n",
       "      <td>3</td>\n",
       "      <td>6</td>\n",
       "      <td>905</td>\n",
       "      <td>1988</td>\n",
       "      <td>2631</td>\n",
       "      <td>17</td>\n",
       "      <td>3</td>\n",
       "      <td>7</td>\n",
       "    </tr>\n",
       "    <tr>\n",
       "      <th>2</th>\n",
       "      <td>563</td>\n",
       "      <td>0.5</td>\n",
       "      <td>2</td>\n",
       "      <td>41</td>\n",
       "      <td>0.9</td>\n",
       "      <td>145</td>\n",
       "      <td>5</td>\n",
       "      <td>6</td>\n",
       "      <td>1263</td>\n",
       "      <td>1716</td>\n",
       "      <td>2603</td>\n",
       "      <td>11</td>\n",
       "      <td>2</td>\n",
       "      <td>9</td>\n",
       "    </tr>\n",
       "    <tr>\n",
       "      <th>3</th>\n",
       "      <td>615</td>\n",
       "      <td>2.5</td>\n",
       "      <td>0</td>\n",
       "      <td>10</td>\n",
       "      <td>0.8</td>\n",
       "      <td>131</td>\n",
       "      <td>6</td>\n",
       "      <td>9</td>\n",
       "      <td>1216</td>\n",
       "      <td>1786</td>\n",
       "      <td>2769</td>\n",
       "      <td>16</td>\n",
       "      <td>8</td>\n",
       "      <td>11</td>\n",
       "    </tr>\n",
       "    <tr>\n",
       "      <th>4</th>\n",
       "      <td>1821</td>\n",
       "      <td>1.2</td>\n",
       "      <td>13</td>\n",
       "      <td>44</td>\n",
       "      <td>0.6</td>\n",
       "      <td>141</td>\n",
       "      <td>2</td>\n",
       "      <td>14</td>\n",
       "      <td>1208</td>\n",
       "      <td>1212</td>\n",
       "      <td>1411</td>\n",
       "      <td>8</td>\n",
       "      <td>2</td>\n",
       "      <td>15</td>\n",
       "    </tr>\n",
       "  </tbody>\n",
       "</table>\n",
       "</div>"
      ],
      "text/plain": [
       "   battery_power  clock_speed  fc  int_memory  m_dep  mobile_wt  n_cores  pc  \\\n",
       "0            842          2.2   1           7    0.6        188        2   2   \n",
       "1           1021          0.5   0          53    0.7        136        3   6   \n",
       "2            563          0.5   2          41    0.9        145        5   6   \n",
       "3            615          2.5   0          10    0.8        131        6   9   \n",
       "4           1821          1.2  13          44    0.6        141        2  14   \n",
       "\n",
       "   px_height  px_width   ram  sc_h  sc_w  talk_time  \n",
       "0         20       756  2549     9     7         19  \n",
       "1        905      1988  2631    17     3          7  \n",
       "2       1263      1716  2603    11     2          9  \n",
       "3       1216      1786  2769    16     8         11  \n",
       "4       1208      1212  1411     8     2         15  "
      ]
     },
     "execution_count": 27,
     "metadata": {},
     "output_type": "execute_result"
    }
   ],
   "source": [
    "numeric_data=data.drop(['blue','dual_sim','four_g','three_g','touch_screen','wifi','price_range'],axis=1)\n",
    "numeric_data.head()"
   ]
  },
  {
   "cell_type": "code",
   "execution_count": 28,
   "id": "9b0bbbd9",
   "metadata": {},
   "outputs": [
    {
     "data": {
      "text/html": [
       "<div>\n",
       "<style scoped>\n",
       "    .dataframe tbody tr th:only-of-type {\n",
       "        vertical-align: middle;\n",
       "    }\n",
       "\n",
       "    .dataframe tbody tr th {\n",
       "        vertical-align: top;\n",
       "    }\n",
       "\n",
       "    .dataframe thead th {\n",
       "        text-align: right;\n",
       "    }\n",
       "</style>\n",
       "<table border=\"1\" class=\"dataframe\">\n",
       "  <thead>\n",
       "    <tr style=\"text-align: right;\">\n",
       "      <th></th>\n",
       "      <th>blue</th>\n",
       "      <th>dual_sim</th>\n",
       "      <th>four_g</th>\n",
       "      <th>three_g</th>\n",
       "      <th>touch_screen</th>\n",
       "      <th>wifi</th>\n",
       "      <th>price_range</th>\n",
       "    </tr>\n",
       "  </thead>\n",
       "  <tbody>\n",
       "    <tr>\n",
       "      <th>0</th>\n",
       "      <td>0</td>\n",
       "      <td>0</td>\n",
       "      <td>0</td>\n",
       "      <td>0</td>\n",
       "      <td>0</td>\n",
       "      <td>1</td>\n",
       "      <td>1</td>\n",
       "    </tr>\n",
       "    <tr>\n",
       "      <th>1</th>\n",
       "      <td>1</td>\n",
       "      <td>1</td>\n",
       "      <td>1</td>\n",
       "      <td>1</td>\n",
       "      <td>1</td>\n",
       "      <td>0</td>\n",
       "      <td>2</td>\n",
       "    </tr>\n",
       "    <tr>\n",
       "      <th>2</th>\n",
       "      <td>1</td>\n",
       "      <td>1</td>\n",
       "      <td>1</td>\n",
       "      <td>1</td>\n",
       "      <td>1</td>\n",
       "      <td>0</td>\n",
       "      <td>2</td>\n",
       "    </tr>\n",
       "    <tr>\n",
       "      <th>3</th>\n",
       "      <td>1</td>\n",
       "      <td>0</td>\n",
       "      <td>0</td>\n",
       "      <td>1</td>\n",
       "      <td>0</td>\n",
       "      <td>0</td>\n",
       "      <td>2</td>\n",
       "    </tr>\n",
       "    <tr>\n",
       "      <th>4</th>\n",
       "      <td>1</td>\n",
       "      <td>0</td>\n",
       "      <td>1</td>\n",
       "      <td>1</td>\n",
       "      <td>1</td>\n",
       "      <td>0</td>\n",
       "      <td>1</td>\n",
       "    </tr>\n",
       "  </tbody>\n",
       "</table>\n",
       "</div>"
      ],
      "text/plain": [
       "   blue  dual_sim  four_g  three_g  touch_screen  wifi  price_range\n",
       "0     0         0       0        0             0     1            1\n",
       "1     1         1       1        1             1     0            2\n",
       "2     1         1       1        1             1     0            2\n",
       "3     1         0       0        1             0     0            2\n",
       "4     1         0       1        1             1     0            1"
      ]
     },
     "execution_count": 28,
     "metadata": {},
     "output_type": "execute_result"
    }
   ],
   "source": [
    "categorical_data= data[['blue','dual_sim','four_g','three_g','touch_screen','wifi','price_range']]\n",
    "categorical_data.head()"
   ]
  },
  {
   "cell_type": "code",
   "execution_count": 29,
   "id": "c22c1dec",
   "metadata": {},
   "outputs": [
    {
     "name": "stderr",
     "output_type": "stream",
     "text": [
      "Matplotlib is building the font cache; this may take a moment.\n"
     ]
    }
   ],
   "source": [
    "from matplotlib import pyplot as plt \n",
    "import seaborn as sns"
   ]
  },
  {
   "cell_type": "code",
   "execution_count": 30,
   "id": "0b4555bd",
   "metadata": {},
   "outputs": [
    {
     "data": {
      "text/plain": [
       "<AxesSubplot:>"
      ]
     },
     "execution_count": 30,
     "metadata": {},
     "output_type": "execute_result"
    },
    {
     "data": {
      "image/png": "[encoded data removed]",
      "text/plain": [
       "<Figure size 720x576 with 1 Axes>"
      ]
     },
     "metadata": {
      "needs_background": "light"
     },
     "output_type": "display_data"
    }
   ],
   "source": [
    "fig, ax = plt.subplots(figsize = (10,8))\n",
    "sns.boxplot(numeric_data['ram'],orient='v')"
   ]
  },
  {
   "cell_type": "code",
   "execution_count": 31,
   "id": "40e11297",
   "metadata": {},
   "outputs": [
    {
     "data": {
      "text/plain": [
       "<AxesSubplot:>"
      ]
     },
     "execution_count": 31,
     "metadata": {},
     "output_type": "execute_result"
    },
    {
     "data": {
      "image/png": "[encoded data removed]",
      "text/plain": [
       "<Figure size 720x576 with 1 Axes>"
      ]
     },
     "metadata": {
      "needs_background": "light"
     },
     "output_type": "display_data"
    }
   ],
   "source": [
    "fig, ax = plt.subplots(figsize = (10,8))\n",
    "sns.boxplot(numeric_data['mobile_wt'],orient='v')"
   ]
  },
  {
   "cell_type": "code",
   "execution_count": 32,
   "id": "70630dfe",
   "metadata": {},
   "outputs": [
    {
     "data": {
      "text/plain": [
       "[Text(0, 0, 'battery_power'),\n",
       " Text(1, 0, 'clock_speed'),\n",
       " Text(2, 0, 'fc'),\n",
       " Text(3, 0, 'int_memory'),\n",
       " Text(4, 0, 'm_dep'),\n",
       " Text(5, 0, 'mobile_wt'),\n",
       " Text(6, 0, 'n_cores'),\n",
       " Text(7, 0, 'pc'),\n",
       " Text(8, 0, 'px_height'),\n",
       " Text(9, 0, 'px_width'),\n",
       " Text(10, 0, 'ram'),\n",
       " Text(11, 0, 'sc_h'),\n",
       " Text(12, 0, 'sc_w'),\n",
       " Text(13, 0, 'talk_time')]"
      ]
     },
     "execution_count": 32,
     "metadata": {},
     "output_type": "execute_result"
    },
    {
     "data": {
      "image/png": "[encoded data removed]",
      "text/plain": [
       "<Figure size 720x576 with 1 Axes>"
      ]
     },
     "metadata": {
      "needs_background": "light"
     },
     "output_type": "display_data"
    }
   ],
   "source": [
    "fig, ax = plt.subplots(figsize=(10,8))\n",
    "bp=sns.boxplot(data=numeric_data)\n",
    "bp.set_xticklabels(bp.get_xticklabels(),rotation=90)"
   ]
  },
  {
   "cell_type": "code",
   "execution_count": 34,
   "id": "aa1d1a24",
   "metadata": {},
   "outputs": [],
   "source": [
    "from sklearn.preprocessing import StandardScaler\n",
    "scaler = StandardScaler()\n",
    "scaled_array= scaler.fit_transform(numeric_data)"
   ]
  },
  {
   "cell_type": "code",
   "execution_count": 35,
   "id": "9aee0424",
   "metadata": {},
   "outputs": [
    {
     "data": {
      "text/html": [
       "<div>\n",
       "<style scoped>\n",
       "    .dataframe tbody tr th:only-of-type {\n",
       "        vertical-align: middle;\n",
       "    }\n",
       "\n",
       "    .dataframe tbody tr th {\n",
       "        vertical-align: top;\n",
       "    }\n",
       "\n",
       "    .dataframe thead th {\n",
       "        text-align: right;\n",
       "    }\n",
       "</style>\n",
       "<table border=\"1\" class=\"dataframe\">\n",
       "  <thead>\n",
       "    <tr style=\"text-align: right;\">\n",
       "      <th></th>\n",
       "      <th>battery_power</th>\n",
       "      <th>clock_speed</th>\n",
       "      <th>fc</th>\n",
       "      <th>int_memory</th>\n",
       "      <th>m_dep</th>\n",
       "      <th>mobile_wt</th>\n",
       "      <th>n_cores</th>\n",
       "      <th>pc</th>\n",
       "      <th>px_height</th>\n",
       "      <th>px_width</th>\n",
       "      <th>ram</th>\n",
       "      <th>sc_h</th>\n",
       "      <th>sc_w</th>\n",
       "      <th>talk_time</th>\n",
       "    </tr>\n",
       "  </thead>\n",
       "  <tbody>\n",
       "    <tr>\n",
       "      <th>0</th>\n",
       "      <td>-0.902597</td>\n",
       "      <td>0.830779</td>\n",
       "      <td>-0.762495</td>\n",
       "      <td>-1.380644</td>\n",
       "      <td>0.340740</td>\n",
       "      <td>1.349249</td>\n",
       "      <td>-1.101971</td>\n",
       "      <td>-1.305750</td>\n",
       "      <td>-1.408949</td>\n",
       "      <td>-1.146784</td>\n",
       "      <td>0.391703</td>\n",
       "      <td>-0.784983</td>\n",
       "      <td>0.283103</td>\n",
       "      <td>1.462493</td>\n",
       "    </tr>\n",
       "    <tr>\n",
       "      <th>1</th>\n",
       "      <td>-0.495139</td>\n",
       "      <td>-1.253064</td>\n",
       "      <td>-0.992890</td>\n",
       "      <td>1.155024</td>\n",
       "      <td>0.687548</td>\n",
       "      <td>-0.120059</td>\n",
       "      <td>-0.664768</td>\n",
       "      <td>-0.645989</td>\n",
       "      <td>0.585778</td>\n",
       "      <td>1.704465</td>\n",
       "      <td>0.467317</td>\n",
       "      <td>1.114266</td>\n",
       "      <td>-0.635317</td>\n",
       "      <td>-0.734267</td>\n",
       "    </tr>\n",
       "    <tr>\n",
       "      <th>2</th>\n",
       "      <td>-1.537686</td>\n",
       "      <td>-1.253064</td>\n",
       "      <td>-0.532099</td>\n",
       "      <td>0.493546</td>\n",
       "      <td>1.381165</td>\n",
       "      <td>0.134244</td>\n",
       "      <td>0.209639</td>\n",
       "      <td>-0.645989</td>\n",
       "      <td>1.392684</td>\n",
       "      <td>1.074968</td>\n",
       "      <td>0.441498</td>\n",
       "      <td>-0.310171</td>\n",
       "      <td>-0.864922</td>\n",
       "      <td>-0.368140</td>\n",
       "    </tr>\n",
       "    <tr>\n",
       "      <th>3</th>\n",
       "      <td>-1.419319</td>\n",
       "      <td>1.198517</td>\n",
       "      <td>-0.992890</td>\n",
       "      <td>-1.215274</td>\n",
       "      <td>1.034357</td>\n",
       "      <td>-0.261339</td>\n",
       "      <td>0.646842</td>\n",
       "      <td>-0.151168</td>\n",
       "      <td>1.286750</td>\n",
       "      <td>1.236971</td>\n",
       "      <td>0.594569</td>\n",
       "      <td>0.876859</td>\n",
       "      <td>0.512708</td>\n",
       "      <td>-0.002014</td>\n",
       "    </tr>\n",
       "    <tr>\n",
       "      <th>4</th>\n",
       "      <td>1.325906</td>\n",
       "      <td>-0.395011</td>\n",
       "      <td>2.002254</td>\n",
       "      <td>0.658915</td>\n",
       "      <td>0.340740</td>\n",
       "      <td>0.021220</td>\n",
       "      <td>-1.101971</td>\n",
       "      <td>0.673534</td>\n",
       "      <td>1.268718</td>\n",
       "      <td>-0.091452</td>\n",
       "      <td>-0.657666</td>\n",
       "      <td>-1.022389</td>\n",
       "      <td>-0.864922</td>\n",
       "      <td>0.730240</td>\n",
       "    </tr>\n",
       "  </tbody>\n",
       "</table>\n",
       "</div>"
      ],
      "text/plain": [
       "   battery_power  clock_speed        fc  int_memory     m_dep  mobile_wt  \\\n",
       "0      -0.902597     0.830779 -0.762495   -1.380644  0.340740   1.349249   \n",
       "1      -0.495139    -1.253064 -0.992890    1.155024  0.687548  -0.120059   \n",
       "2      -1.537686    -1.253064 -0.532099    0.493546  1.381165   0.134244   \n",
       "3      -1.419319     1.198517 -0.992890   -1.215274  1.034357  -0.261339   \n",
       "4       1.325906    -0.395011  2.002254    0.658915  0.340740   0.021220   \n",
       "\n",
       "    n_cores        pc  px_height  px_width       ram      sc_h      sc_w  \\\n",
       "0 -1.101971 -1.305750  -1.408949 -1.146784  0.391703 -0.784983  0.283103   \n",
       "1 -0.664768 -0.645989   0.585778  1.704465  0.467317  1.114266 -0.635317   \n",
       "2  0.209639 -0.645989   1.392684  1.074968  0.441498 -0.310171 -0.864922   \n",
       "3  0.646842 -0.151168   1.286750  1.236971  0.594569  0.876859  0.512708   \n",
       "4 -1.101971  0.673534   1.268718 -0.091452 -0.657666 -1.022389 -0.864922   \n",
       "\n",
       "   talk_time  \n",
       "0   1.462493  \n",
       "1  -0.734267  \n",
       "2  -0.368140  \n",
       "3  -0.002014  \n",
       "4   0.730240  "
      ]
     },
     "execution_count": 35,
     "metadata": {},
     "output_type": "execute_result"
    }
   ],
   "source": [
    "scaled_data= pd.DataFrame(scaled_array, columns = numeric_data.columns)\n",
    "scaled_data.head()"
   ]
  },
  {
   "cell_type": "code",
   "execution_count": 36,
   "id": "7ad0a8f8",
   "metadata": {},
   "outputs": [
    {
     "data": {
      "text/html": [
       "<div>\n",
       "<style scoped>\n",
       "    .dataframe tbody tr th:only-of-type {\n",
       "        vertical-align: middle;\n",
       "    }\n",
       "\n",
       "    .dataframe tbody tr th {\n",
       "        vertical-align: top;\n",
       "    }\n",
       "\n",
       "    .dataframe thead th {\n",
       "        text-align: right;\n",
       "    }\n",
       "</style>\n",
       "<table border=\"1\" class=\"dataframe\">\n",
       "  <thead>\n",
       "    <tr style=\"text-align: right;\">\n",
       "      <th></th>\n",
       "      <th>battery_power</th>\n",
       "      <th>clock_speed</th>\n",
       "      <th>fc</th>\n",
       "      <th>int_memory</th>\n",
       "      <th>m_dep</th>\n",
       "      <th>mobile_wt</th>\n",
       "      <th>n_cores</th>\n",
       "      <th>pc</th>\n",
       "      <th>px_height</th>\n",
       "      <th>px_width</th>\n",
       "      <th>ram</th>\n",
       "      <th>sc_h</th>\n",
       "      <th>sc_w</th>\n",
       "      <th>talk_time</th>\n",
       "    </tr>\n",
       "  </thead>\n",
       "  <tbody>\n",
       "    <tr>\n",
       "      <th>count</th>\n",
       "      <td>2.000000e+03</td>\n",
       "      <td>2.000000e+03</td>\n",
       "      <td>2.000000e+03</td>\n",
       "      <td>2.000000e+03</td>\n",
       "      <td>2.000000e+03</td>\n",
       "      <td>2.000000e+03</td>\n",
       "      <td>2.000000e+03</td>\n",
       "      <td>2.000000e+03</td>\n",
       "      <td>2.000000e+03</td>\n",
       "      <td>2.000000e+03</td>\n",
       "      <td>2.000000e+03</td>\n",
       "      <td>2.000000e+03</td>\n",
       "      <td>2.000000e+03</td>\n",
       "      <td>2.000000e+03</td>\n",
       "    </tr>\n",
       "    <tr>\n",
       "      <th>mean</th>\n",
       "      <td>2.149392e-16</td>\n",
       "      <td>-1.545430e-16</td>\n",
       "      <td>5.861978e-17</td>\n",
       "      <td>-9.592327e-17</td>\n",
       "      <td>-1.030287e-16</td>\n",
       "      <td>1.278977e-16</td>\n",
       "      <td>-7.727152e-17</td>\n",
       "      <td>1.403322e-16</td>\n",
       "      <td>1.181277e-16</td>\n",
       "      <td>6.084022e-17</td>\n",
       "      <td>-1.811884e-16</td>\n",
       "      <td>4.884981e-17</td>\n",
       "      <td>-5.506706e-17</td>\n",
       "      <td>1.421085e-16</td>\n",
       "    </tr>\n",
       "    <tr>\n",
       "      <th>std</th>\n",
       "      <td>1.000250e+00</td>\n",
       "      <td>1.000250e+00</td>\n",
       "      <td>1.000250e+00</td>\n",
       "      <td>1.000250e+00</td>\n",
       "      <td>1.000250e+00</td>\n",
       "      <td>1.000250e+00</td>\n",
       "      <td>1.000250e+00</td>\n",
       "      <td>1.000250e+00</td>\n",
       "      <td>1.000250e+00</td>\n",
       "      <td>1.000250e+00</td>\n",
       "      <td>1.000250e+00</td>\n",
       "      <td>1.000250e+00</td>\n",
       "      <td>1.000250e+00</td>\n",
       "      <td>1.000250e+00</td>\n",
       "    </tr>\n",
       "    <tr>\n",
       "      <th>min</th>\n",
       "      <td>-1.678817e+00</td>\n",
       "      <td>-1.253064e+00</td>\n",
       "      <td>-9.928904e-01</td>\n",
       "      <td>-1.656260e+00</td>\n",
       "      <td>-1.393304e+00</td>\n",
       "      <td>-1.702391e+00</td>\n",
       "      <td>-1.539175e+00</td>\n",
       "      <td>-1.635631e+00</td>\n",
       "      <td>-1.454027e+00</td>\n",
       "      <td>-1.739251e+00</td>\n",
       "      <td>-1.722711e+00</td>\n",
       "      <td>-1.734608e+00</td>\n",
       "      <td>-1.324131e+00</td>\n",
       "      <td>-1.649584e+00</td>\n",
       "    </tr>\n",
       "    <tr>\n",
       "      <th>25%</th>\n",
       "      <td>-8.804033e-01</td>\n",
       "      <td>-1.007906e+00</td>\n",
       "      <td>-7.624947e-01</td>\n",
       "      <td>-8.845346e-01</td>\n",
       "      <td>-1.046495e+00</td>\n",
       "      <td>-8.829695e-01</td>\n",
       "      <td>-6.647678e-01</td>\n",
       "      <td>-8.109291e-01</td>\n",
       "      <td>-8.167289e-01</td>\n",
       "      <td>-8.719579e-01</td>\n",
       "      <td>-8.453168e-01</td>\n",
       "      <td>-7.849833e-01</td>\n",
       "      <td>-8.649215e-01</td>\n",
       "      <td>-9.173306e-01</td>\n",
       "    </tr>\n",
       "    <tr>\n",
       "      <th>50%</th>\n",
       "      <td>-2.849593e-02</td>\n",
       "      <td>-2.727384e-02</td>\n",
       "      <td>-3.017032e-01</td>\n",
       "      <td>-2.563229e-03</td>\n",
       "      <td>-6.069151e-03</td>\n",
       "      <td>2.122020e-02</td>\n",
       "      <td>-2.275644e-01</td>\n",
       "      <td>1.377252e-02</td>\n",
       "      <td>-1.828116e-01</td>\n",
       "      <td>-1.045034e-02</td>\n",
       "      <td>2.055123e-02</td>\n",
       "      <td>-7.276497e-02</td>\n",
       "      <td>-1.761069e-01</td>\n",
       "      <td>-2.013697e-03</td>\n",
       "    </tr>\n",
       "    <tr>\n",
       "      <th>75%</th>\n",
       "      <td>8.575560e-01</td>\n",
       "      <td>8.307794e-01</td>\n",
       "      <td>6.198797e-01</td>\n",
       "      <td>8.794082e-01</td>\n",
       "      <td>1.034357e+00</td>\n",
       "      <td>8.406421e-01</td>\n",
       "      <td>1.084046e+00</td>\n",
       "      <td>8.384742e-01</td>\n",
       "      <td>6.810064e-01</td>\n",
       "      <td>8.828792e-01</td>\n",
       "      <td>8.670548e-01</td>\n",
       "      <td>8.768595e-01</td>\n",
       "      <td>7.423125e-01</td>\n",
       "      <td>9.133032e-01</td>\n",
       "    </tr>\n",
       "    <tr>\n",
       "      <th>max</th>\n",
       "      <td>1.728812e+00</td>\n",
       "      <td>1.811412e+00</td>\n",
       "      <td>3.384628e+00</td>\n",
       "      <td>1.761380e+00</td>\n",
       "      <td>1.727974e+00</td>\n",
       "      <td>1.688320e+00</td>\n",
       "      <td>1.521249e+00</td>\n",
       "      <td>1.663176e+00</td>\n",
       "      <td>2.963672e+00</td>\n",
       "      <td>1.727608e+00</td>\n",
       "      <td>1.727851e+00</td>\n",
       "      <td>1.589078e+00</td>\n",
       "      <td>2.808756e+00</td>\n",
       "      <td>1.645557e+00</td>\n",
       "    </tr>\n",
       "  </tbody>\n",
       "</table>\n",
       "</div>"
      ],
      "text/plain": [
       "       battery_power   clock_speed            fc    int_memory         m_dep  \\\n",
       "count   2.000000e+03  2.000000e+03  2.000000e+03  2.000000e+03  2.000000e+03   \n",
       "mean    2.149392e-16 -1.545430e-16  5.861978e-17 -9.592327e-17 -1.030287e-16   \n",
       "std     1.000250e+00  1.000250e+00  1.000250e+00  1.000250e+00  1.000250e+00   \n",
       "min    -1.678817e+00 -1.253064e+00 -9.928904e-01 -1.656260e+00 -1.393304e+00   \n",
       "25%    -8.804033e-01 -1.007906e+00 -7.624947e-01 -8.845346e-01 -1.046495e+00   \n",
       "50%    -2.849593e-02 -2.727384e-02 -3.017032e-01 -2.563229e-03 -6.069151e-03   \n",
       "75%     8.575560e-01  8.307794e-01  6.198797e-01  8.794082e-01  1.034357e+00   \n",
       "max     1.728812e+00  1.811412e+00  3.384628e+00  1.761380e+00  1.727974e+00   \n",
       "\n",
       "          mobile_wt       n_cores            pc     px_height      px_width  \\\n",
       "count  2.000000e+03  2.000000e+03  2.000000e+03  2.000000e+03  2.000000e+03   \n",
       "mean   1.278977e-16 -7.727152e-17  1.403322e-16  1.181277e-16  6.084022e-17   \n",
       "std    1.000250e+00  1.000250e+00  1.000250e+00  1.000250e+00  1.000250e+00   \n",
       "min   -1.702391e+00 -1.539175e+00 -1.635631e+00 -1.454027e+00 -1.739251e+00   \n",
       "25%   -8.829695e-01 -6.647678e-01 -8.109291e-01 -8.167289e-01 -8.719579e-01   \n",
       "50%    2.122020e-02 -2.275644e-01  1.377252e-02 -1.828116e-01 -1.045034e-02   \n",
       "75%    8.406421e-01  1.084046e+00  8.384742e-01  6.810064e-01  8.828792e-01   \n",
       "max    1.688320e+00  1.521249e+00  1.663176e+00  2.963672e+00  1.727608e+00   \n",
       "\n",
       "                ram          sc_h          sc_w     talk_time  \n",
       "count  2.000000e+03  2.000000e+03  2.000000e+03  2.000000e+03  \n",
       "mean  -1.811884e-16  4.884981e-17 -5.506706e-17  1.421085e-16  \n",
       "std    1.000250e+00  1.000250e+00  1.000250e+00  1.000250e+00  \n",
       "min   -1.722711e+00 -1.734608e+00 -1.324131e+00 -1.649584e+00  \n",
       "25%   -8.453168e-01 -7.849833e-01 -8.649215e-01 -9.173306e-01  \n",
       "50%    2.055123e-02 -7.276497e-02 -1.761069e-01 -2.013697e-03  \n",
       "75%    8.670548e-01  8.768595e-01  7.423125e-01  9.133032e-01  \n",
       "max    1.727851e+00  1.589078e+00  2.808756e+00  1.645557e+00  "
      ]
     },
     "execution_count": 36,
     "metadata": {},
     "output_type": "execute_result"
    }
   ],
   "source": [
    "scaled_data.describe()"
   ]
  },
  {
   "cell_type": "code",
   "execution_count": 45,
   "id": "88e151f1",
   "metadata": {},
   "outputs": [
    {
     "data": {
      "text/plain": [
       "[Text(0, 0, 'battery_power'),\n",
       " Text(1, 0, 'clock_speed'),\n",
       " Text(2, 0, 'fc'),\n",
       " Text(3, 0, 'int_memory'),\n",
       " Text(4, 0, 'm_dep'),\n",
       " Text(5, 0, 'mobile_wt'),\n",
       " Text(6, 0, 'n_cores'),\n",
       " Text(7, 0, 'pc'),\n",
       " Text(8, 0, 'px_height'),\n",
       " Text(9, 0, 'px_width'),\n",
       " Text(10, 0, 'ram'),\n",
       " Text(11, 0, 'sc_h'),\n",
       " Text(12, 0, 'sc_w'),\n",
       " Text(13, 0, 'talk_time')]"
      ]
     },
     "execution_count": 45,
     "metadata": {},
     "output_type": "execute_result"
    },
    {
     "data": {
      "image/png": "[encoded data removed]",
      "text/plain": [
       "<Figure size 720x576 with 1 Axes>"
      ]
     },
     "metadata": {
      "needs_background": "light"
     },
     "output_type": "display_data"
    }
   ],
   "source": [
    "fig,ax =plt.subplots(figsize=(10,8))\n",
    "bp=sns.boxplot(data = scaled_data)\n",
    "bp.set_xticklabels(bp.get_xticklabels(),rotation=90)"
   ]
  },
  {
   "cell_type": "code",
   "execution_count": 47,
   "id": "cf66464f",
   "metadata": {},
   "outputs": [
    {
     "name": "stdout",
     "output_type": "stream",
     "text": [
      "battery_power     763.50\n",
      "clock_speed         1.50\n",
      "fc                  6.00\n",
      "int_memory         32.00\n",
      "m_dep               0.60\n",
      "mobile_wt          61.00\n",
      "n_cores             4.00\n",
      "pc                 10.00\n",
      "px_height         664.50\n",
      "px_width          758.25\n",
      "ram              1857.00\n",
      "sc_h                7.00\n",
      "sc_w                7.00\n",
      "talk_time          10.00\n",
      "dtype: float64\n"
     ]
    }
   ],
   "source": [
    "Q1= numeric_data.quantile(0.25)\n",
    "Q3= numeric_data.quantile(0.75)\n",
    "IQR= Q3-Q1\n",
    "print(IQR)"
   ]
  },
  {
   "cell_type": "code",
   "execution_count": 55,
   "id": "2ee9ae75",
   "metadata": {},
   "outputs": [
    {
     "data": {
      "text/plain": [
       "(1980, 14)"
      ]
     },
     "execution_count": 55,
     "metadata": {},
     "output_type": "execute_result"
    }
   ],
   "source": [
    "outliers_removed_data= numeric_data[- ((numeric_data<(Q1-1.5*IQR))\\\n",
    "                                  |  (numeric_data>(Q3+1.5*IQR))).any(axis=1) ]\n",
    "outliers_removed_data.shape"
   ]
  },
  {
   "cell_type": "code",
   "execution_count": 58,
   "id": "4f943b37",
   "metadata": {},
   "outputs": [
    {
     "data": {
      "text/plain": [
       "[Text(0, 0, 'battery_power'),\n",
       " Text(1, 0, 'clock_speed'),\n",
       " Text(2, 0, 'fc'),\n",
       " Text(3, 0, 'int_memory'),\n",
       " Text(4, 0, 'm_dep'),\n",
       " Text(5, 0, 'mobile_wt'),\n",
       " Text(6, 0, 'n_cores'),\n",
       " Text(7, 0, 'pc'),\n",
       " Text(8, 0, 'px_height'),\n",
       " Text(9, 0, 'px_width'),\n",
       " Text(10, 0, 'ram'),\n",
       " Text(11, 0, 'sc_h'),\n",
       " Text(12, 0, 'sc_w'),\n",
       " Text(13, 0, 'talk_time')]"
      ]
     },
     "execution_count": 58,
     "metadata": {},
     "output_type": "execute_result"
    },
    {
     "data": {
      "image/png": "[encoded data removed]",
      "text/plain": [
       "<Figure size 720x576 with 1 Axes>"
      ]
     },
     "metadata": {
      "needs_background": "light"
     },
     "output_type": "display_data"
    }
   ],
   "source": [
    "fig, ax = plt.subplots(figsize=(10,8))\n",
    "bp = sns.boxplot(data= outliers_removed_data)\n",
    "bp.set_xticklabels(bp.get_xticklabels(), rotation=90)"
   ]
  },
  {
   "cell_type": "code",
   "execution_count": 59,
   "id": "caae2895",
   "metadata": {},
   "outputs": [],
   "source": [
    "from sklearn.model_selection import train_test_split"
   ]
  },
  {
   "cell_type": "code",
   "execution_count": 61,
   "id": "3d0544df",
   "metadata": {},
   "outputs": [
    {
     "data": {
      "text/html": [
       "<div>\n",
       "<style scoped>\n",
       "    .dataframe tbody tr th:only-of-type {\n",
       "        vertical-align: middle;\n",
       "    }\n",
       "\n",
       "    .dataframe tbody tr th {\n",
       "        vertical-align: top;\n",
       "    }\n",
       "\n",
       "    .dataframe thead th {\n",
       "        text-align: right;\n",
       "    }\n",
       "</style>\n",
       "<table border=\"1\" class=\"dataframe\">\n",
       "  <thead>\n",
       "    <tr style=\"text-align: right;\">\n",
       "      <th></th>\n",
       "      <th>index</th>\n",
       "      <th>battery_power</th>\n",
       "      <th>clock_speed</th>\n",
       "      <th>fc</th>\n",
       "      <th>int_memory</th>\n",
       "      <th>m_dep</th>\n",
       "      <th>mobile_wt</th>\n",
       "      <th>n_cores</th>\n",
       "      <th>pc</th>\n",
       "      <th>px_height</th>\n",
       "      <th>...</th>\n",
       "      <th>sc_w</th>\n",
       "      <th>talk_time</th>\n",
       "      <th>index</th>\n",
       "      <th>blue</th>\n",
       "      <th>dual_sim</th>\n",
       "      <th>four_g</th>\n",
       "      <th>three_g</th>\n",
       "      <th>touch_screen</th>\n",
       "      <th>wifi</th>\n",
       "      <th>price_range</th>\n",
       "    </tr>\n",
       "  </thead>\n",
       "  <tbody>\n",
       "    <tr>\n",
       "      <th>0</th>\n",
       "      <td>0</td>\n",
       "      <td>-0.902597</td>\n",
       "      <td>0.830779</td>\n",
       "      <td>-0.762495</td>\n",
       "      <td>-1.380644</td>\n",
       "      <td>0.340740</td>\n",
       "      <td>1.349249</td>\n",
       "      <td>-1.101971</td>\n",
       "      <td>-1.305750</td>\n",
       "      <td>-1.408949</td>\n",
       "      <td>...</td>\n",
       "      <td>0.283103</td>\n",
       "      <td>1.462493</td>\n",
       "      <td>0</td>\n",
       "      <td>0</td>\n",
       "      <td>0</td>\n",
       "      <td>0</td>\n",
       "      <td>0</td>\n",
       "      <td>0</td>\n",
       "      <td>1</td>\n",
       "      <td>1</td>\n",
       "    </tr>\n",
       "    <tr>\n",
       "      <th>1</th>\n",
       "      <td>1</td>\n",
       "      <td>-0.495139</td>\n",
       "      <td>-1.253064</td>\n",
       "      <td>-0.992890</td>\n",
       "      <td>1.155024</td>\n",
       "      <td>0.687548</td>\n",
       "      <td>-0.120059</td>\n",
       "      <td>-0.664768</td>\n",
       "      <td>-0.645989</td>\n",
       "      <td>0.585778</td>\n",
       "      <td>...</td>\n",
       "      <td>-0.635317</td>\n",
       "      <td>-0.734267</td>\n",
       "      <td>1</td>\n",
       "      <td>1</td>\n",
       "      <td>1</td>\n",
       "      <td>1</td>\n",
       "      <td>1</td>\n",
       "      <td>1</td>\n",
       "      <td>0</td>\n",
       "      <td>2</td>\n",
       "    </tr>\n",
       "    <tr>\n",
       "      <th>2</th>\n",
       "      <td>2</td>\n",
       "      <td>-1.537686</td>\n",
       "      <td>-1.253064</td>\n",
       "      <td>-0.532099</td>\n",
       "      <td>0.493546</td>\n",
       "      <td>1.381165</td>\n",
       "      <td>0.134244</td>\n",
       "      <td>0.209639</td>\n",
       "      <td>-0.645989</td>\n",
       "      <td>1.392684</td>\n",
       "      <td>...</td>\n",
       "      <td>-0.864922</td>\n",
       "      <td>-0.368140</td>\n",
       "      <td>2</td>\n",
       "      <td>1</td>\n",
       "      <td>1</td>\n",
       "      <td>1</td>\n",
       "      <td>1</td>\n",
       "      <td>1</td>\n",
       "      <td>0</td>\n",
       "      <td>2</td>\n",
       "    </tr>\n",
       "    <tr>\n",
       "      <th>3</th>\n",
       "      <td>3</td>\n",
       "      <td>-1.419319</td>\n",
       "      <td>1.198517</td>\n",
       "      <td>-0.992890</td>\n",
       "      <td>-1.215274</td>\n",
       "      <td>1.034357</td>\n",
       "      <td>-0.261339</td>\n",
       "      <td>0.646842</td>\n",
       "      <td>-0.151168</td>\n",
       "      <td>1.286750</td>\n",
       "      <td>...</td>\n",
       "      <td>0.512708</td>\n",
       "      <td>-0.002014</td>\n",
       "      <td>3</td>\n",
       "      <td>1</td>\n",
       "      <td>0</td>\n",
       "      <td>0</td>\n",
       "      <td>1</td>\n",
       "      <td>0</td>\n",
       "      <td>0</td>\n",
       "      <td>2</td>\n",
       "    </tr>\n",
       "    <tr>\n",
       "      <th>4</th>\n",
       "      <td>4</td>\n",
       "      <td>1.325906</td>\n",
       "      <td>-0.395011</td>\n",
       "      <td>2.002254</td>\n",
       "      <td>0.658915</td>\n",
       "      <td>0.340740</td>\n",
       "      <td>0.021220</td>\n",
       "      <td>-1.101971</td>\n",
       "      <td>0.673534</td>\n",
       "      <td>1.268718</td>\n",
       "      <td>...</td>\n",
       "      <td>-0.864922</td>\n",
       "      <td>0.730240</td>\n",
       "      <td>4</td>\n",
       "      <td>1</td>\n",
       "      <td>0</td>\n",
       "      <td>1</td>\n",
       "      <td>1</td>\n",
       "      <td>1</td>\n",
       "      <td>0</td>\n",
       "      <td>1</td>\n",
       "    </tr>\n",
       "  </tbody>\n",
       "</table>\n",
       "<p>5 rows × 23 columns</p>\n",
       "</div>"
      ],
      "text/plain": [
       "   index  battery_power  clock_speed        fc  int_memory     m_dep  \\\n",
       "0      0      -0.902597     0.830779 -0.762495   -1.380644  0.340740   \n",
       "1      1      -0.495139    -1.253064 -0.992890    1.155024  0.687548   \n",
       "2      2      -1.537686    -1.253064 -0.532099    0.493546  1.381165   \n",
       "3      3      -1.419319     1.198517 -0.992890   -1.215274  1.034357   \n",
       "4      4       1.325906    -0.395011  2.002254    0.658915  0.340740   \n",
       "\n",
       "   mobile_wt   n_cores        pc  px_height  ...      sc_w  talk_time  index  \\\n",
       "0   1.349249 -1.101971 -1.305750  -1.408949  ...  0.283103   1.462493      0   \n",
       "1  -0.120059 -0.664768 -0.645989   0.585778  ... -0.635317  -0.734267      1   \n",
       "2   0.134244  0.209639 -0.645989   1.392684  ... -0.864922  -0.368140      2   \n",
       "3  -0.261339  0.646842 -0.151168   1.286750  ...  0.512708  -0.002014      3   \n",
       "4   0.021220 -1.101971  0.673534   1.268718  ... -0.864922   0.730240      4   \n",
       "\n",
       "   blue  dual_sim  four_g  three_g  touch_screen  wifi  price_range  \n",
       "0     0         0       0        0             0     1            1  \n",
       "1     1         1       1        1             1     0            2  \n",
       "2     1         1       1        1             1     0            2  \n",
       "3     1         0       0        1             0     0            2  \n",
       "4     1         0       1        1             1     0            1  \n",
       "\n",
       "[5 rows x 23 columns]"
      ]
     },
     "execution_count": 61,
     "metadata": {},
     "output_type": "execute_result"
    }
   ],
   "source": [
    "scaled_data = scaled_data.reset_index()\n",
    "categorical_data= categorical_data.reset_index()\n",
    "final_df= pd.concat([scaled_data,categorical_data],axis=1)\n",
    "final_df.head()"
   ]
  },
  {
   "cell_type": "code",
   "execution_count": 62,
   "id": "23a820d0",
   "metadata": {},
   "outputs": [
    {
     "data": {
      "text/plain": [
       "index            0\n",
       "battery_power    0\n",
       "clock_speed      0\n",
       "fc               0\n",
       "int_memory       0\n",
       "m_dep            0\n",
       "mobile_wt        0\n",
       "n_cores          0\n",
       "pc               0\n",
       "px_height        0\n",
       "px_width         0\n",
       "ram              0\n",
       "sc_h             0\n",
       "sc_w             0\n",
       "talk_time        0\n",
       "index            0\n",
       "blue             0\n",
       "dual_sim         0\n",
       "four_g           0\n",
       "three_g          0\n",
       "touch_screen     0\n",
       "wifi             0\n",
       "price_range      0\n",
       "dtype: int64"
      ]
     },
     "execution_count": 62,
     "metadata": {},
     "output_type": "execute_result"
    }
   ],
   "source": [
    "final_df.isna().sum()"
   ]
  },
  {
   "cell_type": "code",
   "execution_count": 64,
   "id": "c3660dd4",
   "metadata": {},
   "outputs": [
    {
     "data": {
      "text/plain": [
       "((1600, 22), (400, 22))"
      ]
     },
     "execution_count": 64,
     "metadata": {},
     "output_type": "execute_result"
    }
   ],
   "source": [
    "x= final_df.drop('price_range',axis=1)\n",
    "y= final_df['price_range']\n",
    "x_train,x_test,y_train,y_test=train_test_split(x,y,test_size=0.20,\n",
    "                                          random_state=101)\n",
    "x_train.shape , x_test.shape"
   ]
  },
  {
   "cell_type": "code",
   "execution_count": 68,
   "id": "b0682917",
   "metadata": {},
   "outputs": [],
   "source": [
    "from sklearn.linear_model import LogisticRegression \n",
    "logistic_model = LogisticRegression(solver='lbfgs',multi_class='multinomial',max_iter=10000)"
   ]
  },
  {
   "cell_type": "code",
   "execution_count": 70,
   "id": "dfe25140",
   "metadata": {},
   "outputs": [
    {
     "data": {
      "text/plain": [
       "LogisticRegression(max_iter=10000, multi_class='multinomial')"
      ]
     },
     "execution_count": 70,
     "metadata": {},
     "output_type": "execute_result"
    }
   ],
   "source": [
    "logistic_model.fit(x_train,y_train)\n"
   ]
  },
  {
   "cell_type": "code",
   "execution_count": 71,
   "id": "2622978c",
   "metadata": {},
   "outputs": [
    {
     "data": {
      "text/plain": [
       "0.935"
      ]
     },
     "execution_count": 71,
     "metadata": {},
     "output_type": "execute_result"
    }
   ],
   "source": [
    "logistic_model.score(x_test,y_test)"
   ]
  },
  {
   "cell_type": "code",
   "execution_count": null,
   "id": "85da9294",
   "metadata": {},
   "outputs": [],
   "source": []
  }
 ],
 "metadata": {
  "kernelspec": {
   "display_name": "Python 3 (ipykernel)",
   "language": "python",
   "name": "python3"
  },
  "language_info": {
   "codemirror_mode": {
    "name": "ipython",
    "version": 3
   },
   "file_extension": ".py",
   "mimetype": "text/x-python",
   "name": "python",
   "nbconvert_exporter": "python",
   "pygments_lexer": "ipython3",
   "version": "3.9.7"
  }
 },
 "nbformat": 4,
 "nbformat_minor": 5
}
